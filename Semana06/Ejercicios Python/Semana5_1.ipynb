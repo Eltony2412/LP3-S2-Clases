{
 "cells": [
  {
   "cell_type": "code",
   "execution_count": 1,
   "id": "c3a6e5ec",
   "metadata": {},
   "outputs": [
    {
     "name": "stdout",
     "output_type": "stream",
     "text": [
      "Ingrese el apellido: Chavez\n",
      "No esta en la lista\n"
     ]
    }
   ],
   "source": [
    "#1 Ejercicio\n",
    "# Dado una lista[AQUINO, ARCOS, BALDEON, BARZOLA, BELLO, CACHAY, CARRASCO, CIRIACO, DELGADO, GAYOSO, GONZALES, GRANADOS, HUAMAN, LLANOS,LUQUE, PINEDA, PRADO, QUIJAHUAMAN, QUISPE ,RAKAUSKAS, RAMOS, ROJAS, SOTO,ZARATE]\n",
    "# Diseñar un código que muestre si el apellido de un estudiante(Ingreasdo por el teclado) forma parte de la lista\n",
    "# Tiempo:10 minutos\n",
    "\n",
    "lista_alumnos = ['AQUINO', 'ARCOS', 'BALDEON', 'BARZOLA', 'BELLO', 'CACHAY', 'CARRASCO', 'CIRIACO', 'DELGADO', 'GAYOSO', 'GONZALES', 'GRANADOS', 'HUAMAN', 'LLANOS', 'LUQUE', 'PINEDA', 'PRADO', 'QUIJAHUAMAN', 'QUISPE', 'RAKAUSKAS', 'RAMOS', 'ROJAS', 'SOTO', 'ZARATE']\n",
    "apellido = input(\"Ingrese el apellido: \")\n",
    "if apellido in lista_alumnos:\n",
    "    print (\"Si esta en la lista\")\n",
    "else:\n",
    "    print (\"No esta en la lista\")\n",
    "\n",
    "\n"
   ]
  },
  {
   "cell_type": "code",
   "execution_count": 3,
   "id": "88d36d7b",
   "metadata": {},
   "outputs": [
    {
     "name": "stdout",
     "output_type": "stream",
     "text": [
      "Ingrese el importe del trabajador: 4855\n",
      "CATEGORIA C\n"
     ]
    }
   ],
   "source": [
    "# Problema 02\n",
    "# Dado el importe total de ventas realizadas por un trabajador (Ingreso por teclado,\n",
    "# Categorizar que tipo de empleado es , considerando la siguiente tabla)\n",
    "\n",
    "# Categoría: A ->[1,1000]\n",
    "# Categoría: B ->[1000,2000]\n",
    "# Categoría: C ->[2000,5000]\n",
    "# Categoría: D ->[5000,Más]\n",
    "# Tiempo:10 minutos\n",
    "\n",
    "Importe = float(input(\"Ingrese el importe del trabajador: \"))\n",
    "\n",
    "if Importe > 1 and Importe <= 1000:\n",
    "    print (\"CATEGORIA A\")\n",
    "if Importe > 1000 and Importe <= 2000:\n",
    "    print (\"CATEGORIA B\")\n",
    "if Importe > 2000 and Importe <= 5000:\n",
    "    print (\"CATEGORIA C\")\n",
    "if Importe > 5000:\n",
    "    print (\"CATEGORIA D\")"
   ]
  },
  {
   "cell_type": "code",
   "execution_count": 4,
   "id": "2f4696c7",
   "metadata": {},
   "outputs": [
    {
     "name": "stdout",
     "output_type": "stream",
     "text": [
      "Importe de ventas realizadas: 5555\n",
      "Categoría D\n"
     ]
    }
   ],
   "source": [
    "# elif\n",
    "# Problema 03\n",
    "# Dado el importe total de ventas realizadas por un trabajador (Ingreso por teclado,\n",
    "# Categorizar que tipo de empleado es , considerando la siguiente tabla)\n",
    "\n",
    "# Categoría: A ->[1,1000]\n",
    "# Categoría: B ->[1000,2000]\n",
    "# Categoría: C ->[2000,5000]\n",
    "# Categoría: D ->[5000,Más]\n",
    "# Tiempo:10 minutos\n",
    "\n",
    "ventas = float(input(\"Importe de ventas realizadas: \"))\n",
    "if ventas < 0:\n",
    "    print(\"Datos Erroneos\")\n",
    "elif ventas<=1000:\n",
    "    print(\"Categoría A\")\n",
    "elif ventas<=2000:\n",
    "    print(\"categoría B\")\n",
    "elif ventas<=5000:\n",
    "    print(\"Categoría C\")\n",
    "else:\n",
    "    print(\"Categoría D\")"
   ]
  },
  {
   "cell_type": "code",
   "execution_count": 5,
   "id": "9b4a6cbd",
   "metadata": {},
   "outputs": [
    {
     "name": "stdout",
     "output_type": "stream",
     "text": [
      "Carrasco\n",
      "Navarro\n",
      "Gonzales\n",
      "Aquino\n"
     ]
    }
   ],
   "source": [
    "# Problema 4:\n",
    "# Mostrar los elementos de una lista utilizando for\n",
    "aula = ['Carrasco', 'Navarro', 'Gonzales','Aquino']\n",
    "\n",
    "# Por cada alumno que está en la lista, imprimir alumno\n",
    "for alumno in aula:\n",
    "    print(alumno)"
   ]
  },
  {
   "cell_type": "code",
   "execution_count": 6,
   "id": "0f45790b",
   "metadata": {},
   "outputs": [
    {
     "name": "stdout",
     "output_type": "stream",
     "text": [
      "3\n",
      "4\n",
      "5\n",
      "6\n",
      "7\n",
      "8\n",
      "9\n",
      "10\n"
     ]
    }
   ],
   "source": [
    "# Problema 5:\n",
    "# Imprimir los números de 0 a 10, utilizando for\n",
    "for numero in range(3,11):\n",
    "    print(numero)"
   ]
  },
  {
   "cell_type": "code",
   "execution_count": 12,
   "id": "465c430a",
   "metadata": {},
   "outputs": [
    {
     "name": "stdout",
     "output_type": "stream",
     "text": [
      "[-1000, -10, 0, 0, 5, 10, 17, 20, 50, 100, 2000]\n"
     ]
    }
   ],
   "source": [
    "# Tambien funcionan los bucles anidados:\n",
    "# PROBLEMA 05 \n",
    "# DADO UNA LISTA DE NÚMEROS , UTILIZANDO EL ALGORITMO BURBUJA ORDENARLOS DE MENOR A MAYOR\n",
    "# LISTA: [10,20,5,-10,100,0,50,17,2000,-1000,0]\n",
    "\n",
    "lista = [10,20,5,-10,100,0,50,17,2000,-1000,0]\n",
    "ban = False\n",
    "while ban == False:\n",
    "    ban = True\n",
    "    for i in range(len(lista)-1):\n",
    "        if lista[i] > lista[i+1]:\n",
    "            aux = lista[i]\n",
    "            lista[i] = lista[i+1]\n",
    "            lista[i+1] = aux\n",
    "            ban = False\n",
    "print(lista)"
   ]
  },
  {
   "cell_type": "code",
   "execution_count": null,
   "id": "0f098302",
   "metadata": {},
   "outputs": [],
   "source": []
  }
 ],
 "metadata": {
  "kernelspec": {
   "display_name": "Python 3 (ipykernel)",
   "language": "python",
   "name": "python3"
  },
  "language_info": {
   "codemirror_mode": {
    "name": "ipython",
    "version": 3
   },
   "file_extension": ".py",
   "mimetype": "text/x-python",
   "name": "python",
   "nbconvert_exporter": "python",
   "pygments_lexer": "ipython3",
   "version": "3.9.12"
  }
 },
 "nbformat": 4,
 "nbformat_minor": 5
}
